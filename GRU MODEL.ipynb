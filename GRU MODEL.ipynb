{
 "cells": [
  {
   "cell_type": "code",
   "execution_count": 1,
   "id": "afd6cb01",
   "metadata": {},
   "outputs": [],
   "source": [
    "import librosa as lr\n",
    "import numpy as np\n",
    "import h5py\n",
    "from glob import glob\n",
    "import os\n",
    "from sklearn import preprocessing"
   ]
  },
  {
   "cell_type": "code",
   "execution_count": 27,
   "id": "624612f7",
   "metadata": {},
   "outputs": [],
   "source": [
    "seq_len=200\n",
    "\n",
    "def create_hdf5(file_list1,file_list2,file_list3):\n",
    "    train_data_armania=[]\n",
    "    train_label_armania=[]\n",
    "    train_data_english=[]\n",
    "    train_label_english=[]\n",
    "    train_data_tamil_english=[]\n",
    "    train_label_tamil_english=[]\n",
    "    \n",
    "    for file1 in file_list1:\n",
    "        data1,sr=lr.load(file1,sr=16000)\n",
    "        data1=lr.feature.mfcc(y=data1,sr=sr,n_mfcc=64,n_fft=int(sr*0.025),hop_length=int(sr*0.010)).T\n",
    "        length=len(data1)\n",
    "        data1=data1[:length-(length%seq_len)]\n",
    "        #data1 = np.array(preprocessing.normalize(data1))\n",
    "        data1=data1.reshape(int(len(data1)/seq_len),seq_len,64)\n",
    "        train_data_armania.extend(data1)\n",
    "        \n",
    "    train_label_armania=[[[1,0,0] for i in range(seq_len)] for j in range (len(train_data_armania))]\n",
    "    \n",
    "    print(\"armania done\")\n",
    "    \n",
    "    for file2 in file_list2:\n",
    "        data2,sr=lr.load(file2,sr=16000)\n",
    "        data2=lr.feature.mfcc(y=data2,sr=sr,n_mfcc=64,n_fft=int(sr*0.025),hop_length=int(sr*0.010)).T\n",
    "        length=len(data2)\n",
    "        data2=data2[:length-(length%seq_len)]\n",
    "        #data1 = np.array(preprocessing.normalize(data1))\n",
    "        data2=data2.reshape(int(len(data2)/seq_len),seq_len,64)\n",
    "        train_data_english.extend(data2)\n",
    "        \n",
    "    train_label_english=[[[0,1,0] for i in range(seq_len)] for j in range (len(train_data_english))]\n",
    "    print(\"english done\")\n",
    "    \n",
    "    for file3 in file_list3:\n",
    "        data3,sr=lr.load(file3,sr=16000)\n",
    "        data3=lr.feature.mfcc(y=data3,sr=sr,n_mfcc=64,n_fft=int(sr*0.025),hop_length=int(sr*0.010)).T\n",
    "        length=len(data3)\n",
    "        data3=data3[:length-(length%seq_len)]\n",
    "        #data3 = np.array(preprocessing.normalize(data1))\n",
    "        data3=data3.reshape(int(len(data3)/seq_len),seq_len,64)\n",
    "        train_data_tamil_english.extend(data3)\n",
    "        \n",
    "    train_label_tamil_english=[[[0,0,1] for i in range(seq_len)] for j in range (len(train_data_tamil_english))]\n",
    "    print(\"tam_eng done\")\n",
    "    \n",
    "    print('data1',np.shape(train_data_english))\n",
    "    print('label1',np.shape(train_label_english))\n",
    "    print('data2',np.shape(train_data_armania))\n",
    "    print('label1',np.shape(train_label_armania))\n",
    "    print('data3',np.shape(train_data_tamil_english))\n",
    "    print('label3',np.shape(train_label_tamil_english))\n",
    "    \n",
    "    with h5py.File('train_data.hdf5', \"w\") as hf:\n",
    "        hf.create_dataset('english_data', data=train_data_english)\n",
    "        hf.create_dataset('english_label', data=train_label_english)   \n",
    "    hf.close()\n",
    "    \n",
    "    with h5py.File('train_data.hdf5', \"a\") as hf:\n",
    "        hf.create_dataset('armania_data', data=train_data_armania)\n",
    "        hf.create_dataset('armania_label', data=train_label_armania) \n",
    "    hf.close()\n",
    "        \n",
    "    with h5py.File('train_data.hdf5', \"a\") as hf:\n",
    "        hf.create_dataset('tamil_english_data', data=train_data_tamil_english)\n",
    "        hf.create_dataset('tamil_english_label', data=train_label_tamil_english)   \n",
    "    hf.close()\n",
    "\n",
    "        \n",
    "    "
   ]
  },
  {
   "cell_type": "code",
   "execution_count": 28,
   "id": "e85c24fe",
   "metadata": {},
   "outputs": [
    {
     "name": "stdout",
     "output_type": "stream",
     "text": [
      "english_files:  100\n",
      "hindi_files:  100\n",
      "mandarin_files:  100\n",
      "armania done\n",
      "english done\n",
      "tam_eng done\n",
      "data1 (284, 200, 64)\n",
      "label1 (284, 200, 3)\n",
      "data2 (251, 200, 64)\n",
      "label1 (251, 200, 3)\n",
      "data3 (498, 200, 64)\n",
      "label3 (498, 200, 3)\n"
     ]
    }
   ],
   "source": [
    "if __name__ == '__main__':\n",
    "    path1 = 'E:/GRU_MODEL/data/Armania/*'\n",
    "    path2 = 'E:/GRU_MODEL/data/English/*'\n",
    "    path3 = 'E:/GRU_MODEL/data/Tamil-English/*'\n",
    "    file_list_1 = []\n",
    "    file_list_2 = []\n",
    "    file_list_3 = []\n",
    "    for (file1,file2,file3) in zip(glob(path1),glob(path2),glob(path3)):\n",
    "        file_list_1.append(file1)\n",
    "        file_list_2.append(file2)\n",
    "        file_list_3.append(file3)\n",
    "    print('english_files: ',len(file_list_1))\n",
    "    print('hindi_files: ',len(file_list_2))\n",
    "    print('mandarin_files: ',len(file_list_3))\n",
    "    create_hdf5(file_list_1,file_list_2,file_list_3)\n",
    "    "
   ]
  },
  {
   "cell_type": "code",
   "execution_count": 14,
   "id": "e5f8e51f",
   "metadata": {},
   "outputs": [
    {
     "ename": "NameError",
     "evalue": "name 'train_data_armania' is not defined",
     "output_type": "error",
     "traceback": [
      "\u001b[1;31m---------------------------------------------------------------------------\u001b[0m",
      "\u001b[1;31mNameError\u001b[0m                                 Traceback (most recent call last)",
      "\u001b[1;32m~\\AppData\\Local\\Temp/ipykernel_5756/3477696592.py\u001b[0m in \u001b[0;36m<module>\u001b[1;34m\u001b[0m\n\u001b[1;32m----> 1\u001b[1;33m \u001b[0mtrain_data_armania\u001b[0m\u001b[1;33m\u001b[0m\u001b[1;33m\u001b[0m\u001b[0m\n\u001b[0m",
      "\u001b[1;31mNameError\u001b[0m: name 'train_data_armania' is not defined"
     ]
    }
   ],
   "source": []
  },
  {
   "cell_type": "code",
   "execution_count": null,
   "id": "5d7c82c2",
   "metadata": {},
   "outputs": [],
   "source": [
    "train_data_armania=[]\n",
    "train_label_armania=[]\n",
    "data2,sr=lr.load(\"\")"
   ]
  },
  {
   "cell_type": "code",
   "execution_count": 27,
   "id": "5be9116f",
   "metadata": {},
   "outputs": [
    {
     "data": {
      "text/plain": [
       "(4, 200, 3)"
      ]
     },
     "execution_count": 27,
     "metadata": {},
     "output_type": "execute_result"
    }
   ],
   "source": [
    "np.shape(train_label_english)"
   ]
  }
 ],
 "metadata": {
  "kernelspec": {
   "display_name": "Python 3 (ipykernel)",
   "language": "python",
   "name": "python3"
  },
  "language_info": {
   "codemirror_mode": {
    "name": "ipython",
    "version": 3
   },
   "file_extension": ".py",
   "mimetype": "text/x-python",
   "name": "python",
   "nbconvert_exporter": "python",
   "pygments_lexer": "ipython3",
   "version": "3.9.7"
  }
 },
 "nbformat": 4,
 "nbformat_minor": 5
}
